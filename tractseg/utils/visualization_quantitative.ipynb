{
 "cells": [
  {
   "cell_type": "markdown",
   "metadata": {},
   "source": [
    "# Quantitative evaluation"
   ]
  },
  {
   "cell_type": "markdown",
   "metadata": {},
   "source": [
    "## Setup"
   ]
  },
  {
   "cell_type": "markdown",
   "metadata": {},
   "source": [
    "### Modules"
   ]
  },
  {
   "cell_type": "code",
   "execution_count": 4,
   "metadata": {},
   "outputs": [],
   "source": [
    "from pathlib import Path\n",
    "\n",
    "import matplotlib.pyplot as plt\n",
    "import numpy as np\n",
    "import pickle\n",
    "import scipy.stats as spst\n",
    "\n",
    "import tractseg.config as config\n",
    "import tractseg.data.dataset_specific_utils"
   ]
  },
  {
   "cell_type": "markdown",
   "metadata": {},
   "source": [
    "### Data"
   ]
  },
  {
   "cell_type": "code",
   "execution_count": null,
   "metadata": {},
   "outputs": [],
   "source": [
    "DATASET = \"HCP105\"\n",
    "CLASSSET = \"bundles_all72\"\n",
    "CVFOLD = 0\n",
    "\n",
    "EXPERIMENTS = [\"peaks\", \"rank_3_approx\", \"fodfs\"]\n",
    "FILENAME_EXPERIMENT = \"experiment_test.pkl\"\n",
    "\n",
    "path_dir_experiments = Path(config.PATH_DIR_EXP)\n",
    "paths_experiments = [path_dir_experiments / experiment for experiment in EXPERIMENTS]"
   ]
  },
  {
   "cell_type": "markdown",
   "metadata": {},
   "source": [
    "### Utilities"
   ]
  },
  {
   "cell_type": "code",
   "execution_count": null,
   "metadata": {},
   "outputs": [],
   "source": [
    "def loadall(path):\n",
    "    with open(path, \"rb\") as f:\n",
    "        while True:\n",
    "            try:\n",
    "                yield pickle.load(f)\n",
    "            except EOFError:\n",
    "                break\n",
    "\n",
    "\n",
    "def load_experiment(path):\n",
    "    experiment = loadall(path)\n",
    "    return experiment"
   ]
  },
  {
   "cell_type": "markdown",
   "metadata": {},
   "source": [
    "## Plotting results"
   ]
  },
  {
   "cell_type": "code",
   "execution_count": null,
   "metadata": {},
   "outputs": [],
   "source": [
    "subjects = tractseg.data.dataset_specific_utils.get_subjects(DATASET)\n",
    "subjects_train, subjects_validate, subjects_test = tractseg.data.dataset_specific_utils.get_cvfold(DATASET, CVFOLD)\n",
    "classes = tractseg.data.dataset_specific_utils.get_classes(CLASSSET)"
   ]
  },
  {
   "cell_type": "code",
   "execution_count": null,
   "metadata": {},
   "outputs": [],
   "source": [
    "scores_peaks = np.array([score[0] for score in metrics_bundles_peaks.values()])\n",
    "scores_fodfs = np.array([score[0] for score in metrics_bundles_fodfs.values()])\n",
    "scores_rank3 = np.array([score[0] for score in metrics_bundles_rank3.values()])\n",
    "\n",
    "\n",
    "ids_order = np.argsort(scores_peaks)\n",
    "\n",
    "names = np.array(list(metrics_bundles_peaks.keys()))\n",
    "names = names[ids_order]\n",
    "BUNDLES_ALL72 = np.array(BUNDLES_ALL72)\n",
    "names = names_order[np.array([np.where(BUNDLES_ALL72 == query)[0] for query in names])]\n",
    "scores_peaks = scores_peaks[ids_order]\n",
    "scores_fodfs = scores_fodfs[ids_order]\n",
    "scores_rank3 = scores_rank3[ids_order]"
   ]
  },
  {
   "cell_type": "code",
   "execution_count": null,
   "metadata": {},
   "outputs": [],
   "source": [
    "dina4 = np.array([0.21, 0.297]) * 39.37\n",
    "fig = plt.figure(figsize=dina4)\n",
    "\n",
    "plt.scatter(scores_peaks, names.ravel(), marker=\"o\", label=\"Peaks\")\n",
    "plt.scatter(scores_rank3, names.ravel(), marker=\"+\", label=\"Rank-3 approximation\")\n",
    "plt.scatter(scores_fodfs, names.ravel(), marker=\"*\", label=\"fODFs\")\n",
    "plt.xlabel(\"Dice\")\n",
    "plt.ylabel(\"Bundle\")\n",
    "plt.grid(alpha=0.6)\n",
    "plt.legend()\n",
    "plt.tight_layout()\n",
    "plt.show()"
   ]
  },
  {
   "cell_type": "markdown",
   "metadata": {},
   "source": [
    "## Statistical tests"
   ]
  },
  {
   "cell_type": "code",
   "execution_count": null,
   "metadata": {},
   "outputs": [],
   "source": [
    "spst.friedmanchisquare()"
   ]
  }
 ],
 "metadata": {
  "kernelspec": {
   "display_name": ".venv",
   "language": "python",
   "name": "python3"
  },
  "language_info": {
   "codemirror_mode": {
    "name": "ipython",
    "version": 3
   },
   "file_extension": ".py",
   "mimetype": "text/x-python",
   "name": "python",
   "nbconvert_exporter": "python",
   "pygments_lexer": "ipython3",
   "version": "3.9.18"
  }
 },
 "nbformat": 4,
 "nbformat_minor": 2
}
